{
 "cells": [
  {
   "cell_type": "code",
   "execution_count": 46,
   "metadata": {},
   "outputs": [
    {
     "name": "stdout",
     "output_type": "stream",
     "text": [
      "BOT: Hey there friend i am  AIML_team17 Chat Bot \n",
      " I can help you with finding restaurants 🍴  and Baby names 👶\n"
     ]
    }
   ],
   "source": [
    "print ('BOT: Hey there friend i am  AIML_team17 Chat Bot \\n I can help you with finding restaurants',emoji.emojize(':fork_and_knife:') ,' and Baby names',emoji.emojize(':baby:') )"
   ]
  },
  {
   "cell_type": "code",
   "execution_count": 6,
   "metadata": {},
   "outputs": [
    {
     "name": "stdout",
     "output_type": "stream",
     "text": [
      "Python is :thumbs_up_sign:\n"
     ]
    }
   ],
   "source": [
    "import emoji\n",
    "print(emoji.emojize('Python is :thumbs_up_sign:'))"
   ]
  },
  {
   "cell_type": "code",
   "execution_count": 11,
   "metadata": {},
   "outputs": [],
   "source": [
    "from emoji.unicode_codes import UNICODE_EMOJI"
   ]
  },
  {
   "cell_type": "code",
   "execution_count": 44,
   "metadata": {},
   "outputs": [
    {
     "name": "stdout",
     "output_type": "stream",
     "text": [
      "👶\n"
     ]
    }
   ],
   "source": [
    "import emoji \n",
    "print(emoji.emojize(':baby:')) "
   ]
  },
  {
   "cell_type": "code",
   "execution_count": 38,
   "metadata": {},
   "outputs": [],
   "source": [
    "emoji.emojize?"
   ]
  },
  {
   "cell_type": "code",
   "execution_count": 71,
   "metadata": {},
   "outputs": [
    {
     "ename": "SyntaxError",
     "evalue": "invalid syntax (<ipython-input-71-7ad94731600a>, line 12)",
     "output_type": "error",
     "traceback": [
      "\u001b[1;36m  File \u001b[1;32m\"<ipython-input-71-7ad94731600a>\"\u001b[1;36m, line \u001b[1;32m12\u001b[0m\n\u001b[1;33m    else:\u001b[0m\n\u001b[1;37m       ^\u001b[0m\n\u001b[1;31mSyntaxError\u001b[0m\u001b[1;31m:\u001b[0m invalid syntax\n"
     ]
    }
   ],
   "source": [
    "import re\n",
    "clean_input =\"hello find me restaurant \"\n",
    "rlist=[\"restaurants\" ,\"restaurant\" ,\"food\",\"dinner\",\"lunch\" ,\"breakfast\",'book','search',\"hungry\"]\n",
    "blist=[\"Baby\",\"Names\",\"BabyNames\",\"start\",\"religion\",\"gender\"]\n",
    "#print(match)\n",
    "for i in rlist:\n",
    "    match = re.search(i,clean_input)\n",
    "    print(match)\n",
    "    if match:\n",
    "        print(\"Inside match cond : \" + clean_input)\n",
    "        break\n",
    "    else:\n",
    "        print(\"None1\")\n"
   ]
  },
  {
   "cell_type": "code",
   "execution_count": 93,
   "metadata": {},
   "outputs": [],
   "source": [
    "def getAction(clean_input):\n",
    "    rlist=[\"restaurants\" ,\"restaurant\" ,\"food\",\"dinner\",\"lunch\" ,\"breakfast\",'book','search',\"hungry\"]\n",
    "    for i,word in enumerate(clean_input.split(' ')):\n",
    "        if any(str(word) in s for s in rlist):\n",
    "            return \"yes\"\n",
    "        else:\n",
    "            return \"no\"\n"
   ]
  },
  {
   "cell_type": "code",
   "execution_count": 94,
   "metadata": {},
   "outputs": [
    {
     "data": {
      "text/plain": [
       "'yes'"
      ]
     },
     "execution_count": 94,
     "metadata": {},
     "output_type": "execute_result"
    }
   ],
   "source": [
    "getAction(\"i want a restaurant\")"
   ]
  },
  {
   "cell_type": "code",
   "execution_count": null,
   "metadata": {},
   "outputs": [],
   "source": [
    "for i in blist:\n",
    "    match = re.search(i,clean_input)\n",
    "    print(match)\n",
    "    if match:\n",
    "        print(clean_input)\n",
    "        break\n",
    "    else:\n",
    "        print(\"none2\")"
   ]
  },
  {
   "cell_type": "code",
   "execution_count": 8,
   "metadata": {},
   "outputs": [
    {
     "data": {
      "text/plain": [
       "'✈'"
      ]
     },
     "execution_count": 8,
     "metadata": {},
     "output_type": "execute_result"
    }
   ],
   "source": [
    "import emoji\n",
    "emoji.emojize(':airplane:')"
   ]
  },
  {
   "cell_type": "code",
   "execution_count": null,
   "metadata": {},
   "outputs": [],
   "source": []
  }
 ],
 "metadata": {
  "kernelspec": {
   "display_name": "Python 3",
   "language": "python",
   "name": "python3"
  },
  "language_info": {
   "codemirror_mode": {
    "name": "ipython",
    "version": 3
   },
   "file_extension": ".py",
   "mimetype": "text/x-python",
   "name": "python",
   "nbconvert_exporter": "python",
   "pygments_lexer": "ipython3",
   "version": "3.6.4"
  }
 },
 "nbformat": 4,
 "nbformat_minor": 2
}
